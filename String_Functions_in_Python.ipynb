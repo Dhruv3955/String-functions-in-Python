{
  "nbformat": 4,
  "nbformat_minor": 0,
  "metadata": {
    "colab": {
      "provenance": []
    },
    "kernelspec": {
      "name": "python3",
      "display_name": "Python 3"
    },
    "language_info": {
      "name": "python"
    }
  },
  "cells": [
    {
      "cell_type": "markdown",
      "source": [
        "# len() function\n",
        "This is used to calculate the length of the strings"
      ],
      "metadata": {
        "id": "Qh8vckevqmr3"
      }
    },
    {
      "cell_type": "code",
      "source": [
        "a = \"Shilu is really a good girl\"\n",
        "print(len(a))"
      ],
      "metadata": {
        "colab": {
          "base_uri": "https://localhost:8080/"
        },
        "id": "0pXa3h-Cqt7O",
        "outputId": "89b48f7b-4c3c-4f55-acd5-5f6a3508acb4"
      },
      "execution_count": 1,
      "outputs": [
        {
          "output_type": "stream",
          "name": "stdout",
          "text": [
            "27\n"
          ]
        }
      ]
    },
    {
      "cell_type": "markdown",
      "source": [
        "# endswith() function\n",
        "It tells us by which a strings ends"
      ],
      "metadata": {
        "id": "_nZWFb4Vq7Ne"
      }
    },
    {
      "cell_type": "code",
      "source": [
        "a = \"Shilu is really cute\"\n",
        "print(a.endswith(\"cute\"))"
      ],
      "metadata": {
        "colab": {
          "base_uri": "https://localhost:8080/"
        },
        "id": "Q8GL8Qwqqr8H",
        "outputId": "5d98c83f-a57d-4497-d5e6-f585d3f6301c"
      },
      "execution_count": 2,
      "outputs": [
        {
          "output_type": "stream",
          "name": "stdout",
          "text": [
            "True\n"
          ]
        }
      ]
    },
    {
      "cell_type": "markdown",
      "source": [
        "# count() function\n",
        "It counts the total number of occurence of a character"
      ],
      "metadata": {
        "id": "z9TXjWq5r5Xu"
      }
    },
    {
      "cell_type": "code",
      "source": [
        "a = \"We are humans with two legs\"\n",
        "print(a.count(\"e\"))"
      ],
      "metadata": {
        "colab": {
          "base_uri": "https://localhost:8080/"
        },
        "id": "kBlPWbnOr1jG",
        "outputId": "bd4a1183-b311-4952-e007-36c691b02a9e"
      },
      "execution_count": 3,
      "outputs": [
        {
          "output_type": "stream",
          "name": "stdout",
          "text": [
            "3\n"
          ]
        }
      ]
    },
    {
      "cell_type": "markdown",
      "source": [
        "# capitalize() function\n",
        "This function helps us to capitalize the first word of a sentence\n",
        "\n",
        "(If we want to capitalize all the character then we have to use uper() function for that)"
      ],
      "metadata": {
        "id": "wjoFEo62sZeN"
      }
    },
    {
      "cell_type": "code",
      "source": [
        "a = \"i want to be best at machine learning\"\n",
        "print(a.capitalize())\n",
        "\n",
        "print(a.upper())"
      ],
      "metadata": {
        "colab": {
          "base_uri": "https://localhost:8080/"
        },
        "id": "VpY2qjujsXJ9",
        "outputId": "b55cdeb2-971f-43e2-d90e-a687f22189d1"
      },
      "execution_count": 5,
      "outputs": [
        {
          "output_type": "stream",
          "name": "stdout",
          "text": [
            "I want to be best at machine learning\n",
            "I WANT TO BE BEST AT MACHINE LEARNING\n"
          ]
        }
      ]
    },
    {
      "cell_type": "markdown",
      "source": [
        "# find() function\n",
        "It is used to find a character in a string and it will return its index"
      ],
      "metadata": {
        "id": "SVU7hv_4t5Ks"
      }
    },
    {
      "cell_type": "code",
      "source": [
        "a = \"Cricket is crucial game is India, and people love that game so much\"\n",
        "print(a.find(\"love\"))"
      ],
      "metadata": {
        "colab": {
          "base_uri": "https://localhost:8080/"
        },
        "id": "TbeJ4GoQtRjd",
        "outputId": "5f6ad56b-e666-4280-baca-12973e1288de"
      },
      "execution_count": 6,
      "outputs": [
        {
          "output_type": "stream",
          "name": "stdout",
          "text": [
            "45\n"
          ]
        }
      ]
    },
    {
      "cell_type": "markdown",
      "source": [
        "# replace() function\n",
        "This function helps to replace a character with a new character in a string"
      ],
      "metadata": {
        "id": "YIr7ZgeSujYj"
      }
    },
    {
      "cell_type": "code",
      "source": [
        "a = \"I just wanted to be the best at Machine Learning and get into a good job\"\n",
        "print(a.replace(\"good\", \"better\"))\n"
      ],
      "metadata": {
        "colab": {
          "base_uri": "https://localhost:8080/"
        },
        "id": "UAY5rwjQuau1",
        "outputId": "6269241d-17d3-4994-ef13-ed65032b6105"
      },
      "execution_count": 7,
      "outputs": [
        {
          "output_type": "stream",
          "name": "stdout",
          "text": [
            "I just wanted to be the best at Machine Learning and get into a better job\n"
          ]
        }
      ]
    },
    {
      "cell_type": "code",
      "source": [],
      "metadata": {
        "id": "s8Saq8S9vn-p"
      },
      "execution_count": null,
      "outputs": []
    }
  ]
}